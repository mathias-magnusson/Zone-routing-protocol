{
 "cells": [
  {
   "cell_type": "code",
   "execution_count": 7,
   "metadata": {},
   "outputs": [
    {
     "name": "stdout",
     "output_type": "stream",
     "text": [
      "Finding neighbours...\n"
     ]
    },
    {
     "ename": "AttributeError",
     "evalue": "'Node' object has no attribute 'packet_count_iarp'",
     "output_type": "error",
     "traceback": [
      "\u001b[0;31m---------------------------------------------------------------------------\u001b[0m",
      "\u001b[0;31mAttributeError\u001b[0m                            Traceback (most recent call last)",
      "\u001b[1;32m/Users/mathiasmagnusson/Zone-routing-protocol/test_env.ipynb Cell 1\u001b[0m line \u001b[0;36m3\n\u001b[1;32m     <a href='vscode-notebook-cell:/Users/mathiasmagnusson/Zone-routing-protocol/test_env.ipynb#W1sZmlsZQ%3D%3D?line=34'>35</a>\u001b[0m \u001b[39mfor\u001b[39;00m n \u001b[39min\u001b[39;00m nodes:\n\u001b[0;32m---> <a href='vscode-notebook-cell:/Users/mathiasmagnusson/Zone-routing-protocol/test_env.ipynb#W1sZmlsZQ%3D%3D?line=35'>36</a>\u001b[0m     packet_count \u001b[39m+\u001b[39m\u001b[39m=\u001b[39m n\u001b[39m.\u001b[39;49mpacket_count_iarp\n\u001b[1;32m     <a href='vscode-notebook-cell:/Users/mathiasmagnusson/Zone-routing-protocol/test_env.ipynb#W1sZmlsZQ%3D%3D?line=36'>37</a>\u001b[0m     n\u001b[39m.\u001b[39mpacket_count_iarp \u001b[39m=\u001b[39m \u001b[39m0\u001b[39m\n",
      "\u001b[0;31mAttributeError\u001b[0m: 'Node' object has no attribute 'packet_count_iarp'",
      "\nThe above exception was the direct cause of the following exception:\n",
      "\u001b[0;31mAttributeError\u001b[0m                            Traceback (most recent call last)",
      "\u001b[1;32m/Users/mathiasmagnusson/Zone-routing-protocol/test_env.ipynb Cell 1\u001b[0m line \u001b[0;36m6\n\u001b[1;32m     <a href='vscode-notebook-cell:/Users/mathiasmagnusson/Zone-routing-protocol/test_env.ipynb#W1sZmlsZQ%3D%3D?line=60'>61</a>\u001b[0m \u001b[39m# Run the simulation\u001b[39;00m\n\u001b[1;32m     <a href='vscode-notebook-cell:/Users/mathiasmagnusson/Zone-routing-protocol/test_env.ipynb#W1sZmlsZQ%3D%3D?line=61'>62</a>\u001b[0m env\u001b[39m.\u001b[39mprocess(network_simulator(env,nodes))\n\u001b[0;32m---> <a href='vscode-notebook-cell:/Users/mathiasmagnusson/Zone-routing-protocol/test_env.ipynb#W1sZmlsZQ%3D%3D?line=62'>63</a>\u001b[0m env\u001b[39m.\u001b[39;49mrun()\n",
      "File \u001b[0;32m~/Library/Python/3.9/lib/python/site-packages/simpy/core.py:254\u001b[0m, in \u001b[0;36mEnvironment.run\u001b[0;34m(self, until)\u001b[0m\n\u001b[1;32m    252\u001b[0m \u001b[39mtry\u001b[39;00m:\n\u001b[1;32m    253\u001b[0m     \u001b[39mwhile\u001b[39;00m \u001b[39mTrue\u001b[39;00m:\n\u001b[0;32m--> 254\u001b[0m         \u001b[39mself\u001b[39;49m\u001b[39m.\u001b[39;49mstep()\n\u001b[1;32m    255\u001b[0m \u001b[39mexcept\u001b[39;00m StopSimulation \u001b[39mas\u001b[39;00m exc:\n\u001b[1;32m    256\u001b[0m     \u001b[39mreturn\u001b[39;00m exc\u001b[39m.\u001b[39margs[\u001b[39m0\u001b[39m]  \u001b[39m# == until.value\u001b[39;00m\n",
      "File \u001b[0;32m~/Library/Python/3.9/lib/python/site-packages/simpy/core.py:206\u001b[0m, in \u001b[0;36mEnvironment.step\u001b[0;34m(self)\u001b[0m\n\u001b[1;32m    204\u001b[0m exc \u001b[39m=\u001b[39m \u001b[39mtype\u001b[39m(event\u001b[39m.\u001b[39m_value)(\u001b[39m*\u001b[39mevent\u001b[39m.\u001b[39m_value\u001b[39m.\u001b[39margs)\n\u001b[1;32m    205\u001b[0m exc\u001b[39m.\u001b[39m__cause__ \u001b[39m=\u001b[39m event\u001b[39m.\u001b[39m_value\n\u001b[0;32m--> 206\u001b[0m \u001b[39mraise\u001b[39;00m exc\n",
      "\u001b[0;31mAttributeError\u001b[0m: 'Node' object has no attribute 'packet_count_iarp'"
     ]
    }
   ],
   "source": [
    "import simpy\n",
    "import Node\n",
    "import LoadData\n",
    "\n",
    "def find_node_neighbours(nodes: [], index : int):\n",
    "    for node in nodes:\n",
    "        node.find_neighbour_nodes(nodes, index)\n",
    "        node.set_all_nodes(nodes)\n",
    "\n",
    "def sort_table(table):\n",
    "    sorted_routing = sorted(table.items())\n",
    "    return dict(sorted_routing)\n",
    "\n",
    "run_time = 1\n",
    "sample_time = 1\n",
    "\n",
    "def network_simulator(env, nodes):\n",
    "\n",
    "    data = [[],[]]\n",
    "    for i in range(run_time):\n",
    "        print(\"Finding neighbours...\")\n",
    "        find_node_neighbours(nodes, i)\n",
    "\n",
    "        packet_count = 0\n",
    "        for node in nodes:\n",
    "            node.routing_table_new.clear()\n",
    "            node.metrics_table_new.clear()\n",
    "            node.paths_to_destinations.clear()\n",
    "            yield env.process(node.iarp())\n",
    "            node.routing_table = node.routing_table_new\n",
    "            node.metrics_table = node.metrics_table_new\n",
    "\n",
    "            node.routing_table = sort_table(node.routing_table)\n",
    "            node.metrics_table = sort_table(node.metrics_table)\n",
    "            for n in nodes:\n",
    "                packet_count += n.packet_count_iarp\n",
    "                n.packet_count_iarp = 0\n",
    "\n",
    "            print(f\"Node {node.node_id} processed. IARP Packet count: {packet_count}\")\n",
    "\n",
    "        print(\"IARP Complete. Starting IERP from Node {source} - Node {destination}\")\n",
    "        source = 0\n",
    "        destination = 3\n",
    "\n",
    "        yield env.process(nodes[source].send_data(destination))\n",
    "        packet_count_ierp = 0\n",
    "        for node in nodes:\n",
    "            packet_count_ierp += node.packet_count_ierp\n",
    "        print(f\"IERP Packet Count: {packet_count_ierp}\")\n",
    "\n",
    "\n",
    "# Create environment\n",
    "env = simpy.Environment()\n",
    "\n",
    "# Create nodes\n",
    "nodes = []\n",
    "zone_radius = 4\n",
    "for i in range(54):\n",
    "    nodes.append(Node.Node(env, i, zone_radius, position=LoadData.get_position_data(i)))\n",
    "\n",
    "# Run the simulation\n",
    "env.process(network_simulator(env,nodes))\n",
    "env.run()"
   ]
  }
 ],
 "metadata": {
  "kernelspec": {
   "display_name": "Python 3",
   "language": "python",
   "name": "python3"
  },
  "language_info": {
   "codemirror_mode": {
    "name": "ipython",
    "version": 3
   },
   "file_extension": ".py",
   "mimetype": "text/x-python",
   "name": "python",
   "nbconvert_exporter": "python",
   "pygments_lexer": "ipython3",
   "version": "3.9.6"
  }
 },
 "nbformat": 4,
 "nbformat_minor": 2
}
